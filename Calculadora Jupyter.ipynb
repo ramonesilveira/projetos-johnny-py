{
 "cells": [
  {
   "cell_type": "code",
   "execution_count": 5,
   "metadata": {},
   "outputs": [
    {
     "data": {
      "text/html": [
       "<table border='1'><tr><th colspan='7'>Para o mês 1/2024:</th></tr><tr><th>Segunda</th><th>Terça</th><th>Quarta</th><th>Quinta</th><th>Sexta</th><th>Sábado</th><th>Domingo</th></tr><tr><td style='background-color: #FF6347'>1</td><td style='background-color: #90EE90'>2</td><td style='background-color: #90EE90'>3</td><td style='background-color: #90EE90'>4</td><td style='background-color: #90EE90'>5</td><td style='background-color: #87CEEB'>6</td><td style='background-color: #87CEEB'>7</td></tr><tr><td style='background-color: #90EE90'>8</td><td style='background-color: #90EE90'>9</td><td style='background-color: #90EE90'>10</td><td style='background-color: #90EE90'>11</td><td style='background-color: #90EE90'>12</td><td style='background-color: #87CEEB'>13</td><td style='background-color: #87CEEB'>14</td></tr><tr><td style='background-color: #90EE90'>15</td><td style='background-color: #90EE90'>16</td><td style='background-color: #90EE90'>17</td><td style='background-color: #90EE90'>18</td><td style='background-color: #90EE90'>19</td><td style='background-color: #87CEEB'>20</td><td style='background-color: #87CEEB'>21</td></tr><tr><td style='background-color: #90EE90'>22</td><td style='background-color: #90EE90'>23</td><td style='background-color: #90EE90'>24</td><td style='background-color: #90EE90'>25</td><td style='background-color: #90EE90'>26</td><td style='background-color: #87CEEB'>27</td><td style='background-color: #87CEEB'>28</td></tr><tr><td style='background-color: #90EE90'>29</td><td style='background-color: #90EE90'>30</td><td style='background-color: #90EE90'>31</td><td></td><td></td><td></td><td></td></tr></table>"
      ],
      "text/plain": [
       "<IPython.core.display.HTML object>"
      ]
     },
     "metadata": {},
     "output_type": "display_data"
    },
    {
     "name": "stdout",
     "output_type": "stream",
     "text": [
      "\u001b[90mTotal de dias úteis no mês: None\n",
      "O total de salário no mês será de R$ 904.64\n",
      "O total de bolsa-auxilio no mês será de R$ 365.64\n",
      "O total de vale transporte no mês será de R$ 422.4\n",
      "O total de vale alimentação no mês será de R$ 539.0\n",
      "\n",
      "Feriados:\n",
      "01/01: Confraternização Universal\n"
     ]
    },
    {
     "data": {
      "text/html": [
       "<table border='1'><tr><th colspan='7'>Para o mês 2/2024:</th></tr><tr><th>Segunda</th><th>Terça</th><th>Quarta</th><th>Quinta</th><th>Sexta</th><th>Sábado</th><th>Domingo</th></tr><tr><td></td><td></td><td></td><td style='background-color: #90EE90'>1</td><td style='background-color: #90EE90'>2</td><td style='background-color: #87CEEB'>3</td><td style='background-color: #87CEEB'>4</td></tr><tr><td style='background-color: #90EE90'>5</td><td style='background-color: #90EE90'>6</td><td style='background-color: #90EE90'>7</td><td style='background-color: #90EE90'>8</td><td style='background-color: #90EE90'>9</td><td style='background-color: #87CEEB'>10</td><td style='background-color: #87CEEB'>11</td></tr><tr><td style='background-color: #90EE90'>12</td><td style='background-color: #90EE90'>13</td><td style='background-color: #90EE90'>14</td><td style='background-color: #90EE90'>15</td><td style='background-color: #90EE90'>16</td><td style='background-color: #87CEEB'>17</td><td style='background-color: #87CEEB'>18</td></tr><tr><td style='background-color: #90EE90'>19</td><td style='background-color: #90EE90'>20</td><td style='background-color: #90EE90'>21</td><td style='background-color: #90EE90'>22</td><td style='background-color: #90EE90'>23</td><td style='background-color: #87CEEB'>24</td><td style='background-color: #87CEEB'>25</td></tr><tr><td style='background-color: #90EE90'>26</td><td style='background-color: #90EE90'>27</td><td style='background-color: #90EE90'>28</td><td style='background-color: #90EE90'>29</td><td></td><td></td><td></td></tr></table>"
      ],
      "text/plain": [
       "<IPython.core.display.HTML object>"
      ]
     },
     "metadata": {},
     "output_type": "display_data"
    },
    {
     "name": "stdout",
     "output_type": "stream",
     "text": [
      "\u001b[90mTotal de dias úteis no mês: None\n",
      "O total de salário no mês será de R$ 863.52\n",
      "O total de bolsa-auxilio no mês será de R$ 349.02\n",
      "O total de vale transporte no mês será de R$ 403.2\n",
      "O total de vale alimentação no mês será de R$ 514.5\n",
      "\n",
      "Feriados:\n"
     ]
    },
    {
     "data": {
      "text/html": [
       "<table border='1'><tr><th colspan='7'>Para o mês 3/2024:</th></tr><tr><th>Segunda</th><th>Terça</th><th>Quarta</th><th>Quinta</th><th>Sexta</th><th>Sábado</th><th>Domingo</th></tr><tr><td></td><td></td><td></td><td></td><td style='background-color: #90EE90'>1</td><td style='background-color: #87CEEB'>2</td><td style='background-color: #87CEEB'>3</td></tr><tr><td style='background-color: #90EE90'>4</td><td style='background-color: #90EE90'>5</td><td style='background-color: #90EE90'>6</td><td style='background-color: #90EE90'>7</td><td style='background-color: #90EE90'>8</td><td style='background-color: #87CEEB'>9</td><td style='background-color: #87CEEB'>10</td></tr><tr><td style='background-color: #90EE90'>11</td><td style='background-color: #90EE90'>12</td><td style='background-color: #90EE90'>13</td><td style='background-color: #90EE90'>14</td><td style='background-color: #90EE90'>15</td><td style='background-color: #87CEEB'>16</td><td style='background-color: #87CEEB'>17</td></tr><tr><td style='background-color: #90EE90'>18</td><td style='background-color: #90EE90'>19</td><td style='background-color: #90EE90'>20</td><td style='background-color: #90EE90'>21</td><td style='background-color: #90EE90'>22</td><td style='background-color: #87CEEB'>23</td><td style='background-color: #87CEEB'>24</td></tr><tr><td style='background-color: #90EE90'>25</td><td style='background-color: #90EE90'>26</td><td style='background-color: #90EE90'>27</td><td style='background-color: #90EE90'>28</td><td style='background-color: #FF6347'>29</td><td style='background-color: #87CEEB'>30</td><td style='background-color: #87CEEB'>31</td></tr></table>"
      ],
      "text/plain": [
       "<IPython.core.display.HTML object>"
      ]
     },
     "metadata": {},
     "output_type": "display_data"
    },
    {
     "name": "stdout",
     "output_type": "stream",
     "text": [
      "\u001b[90mTotal de dias úteis no mês: None\n",
      "O total de salário no mês será de R$ 822.4\n",
      "O total de bolsa-auxilio no mês será de R$ 332.4\n",
      "O total de vale transporte no mês será de R$ 384.0\n",
      "O total de vale alimentação no mês será de R$ 490.0\n",
      "\n",
      "Feriados:\n",
      "29/03: Sexta-feira Santa\n"
     ]
    },
    {
     "data": {
      "text/html": [
       "<table border='1'><tr><th colspan='7'>Para o mês 4/2024:</th></tr><tr><th>Segunda</th><th>Terça</th><th>Quarta</th><th>Quinta</th><th>Sexta</th><th>Sábado</th><th>Domingo</th></tr><tr><td style='background-color: #90EE90'>1</td><td style='background-color: #90EE90'>2</td><td style='background-color: #90EE90'>3</td><td style='background-color: #90EE90'>4</td><td style='background-color: #90EE90'>5</td><td style='background-color: #87CEEB'>6</td><td style='background-color: #87CEEB'>7</td></tr><tr><td style='background-color: #90EE90'>8</td><td style='background-color: #90EE90'>9</td><td style='background-color: #90EE90'>10</td><td style='background-color: #90EE90'>11</td><td style='background-color: #90EE90'>12</td><td style='background-color: #87CEEB'>13</td><td style='background-color: #87CEEB'>14</td></tr><tr><td style='background-color: #90EE90'>15</td><td style='background-color: #90EE90'>16</td><td style='background-color: #90EE90'>17</td><td style='background-color: #90EE90'>18</td><td style='background-color: #90EE90'>19</td><td style='background-color: #87CEEB'>20</td><td style='background-color: #87CEEB'>21</td></tr><tr><td style='background-color: #90EE90'>22</td><td style='background-color: #90EE90'>23</td><td style='background-color: #90EE90'>24</td><td style='background-color: #90EE90'>25</td><td style='background-color: #90EE90'>26</td><td style='background-color: #87CEEB'>27</td><td style='background-color: #87CEEB'>28</td></tr><tr><td style='background-color: #90EE90'>29</td><td style='background-color: #90EE90'>30</td><td></td><td></td><td></td><td></td><td></td></tr></table>"
      ],
      "text/plain": [
       "<IPython.core.display.HTML object>"
      ]
     },
     "metadata": {},
     "output_type": "display_data"
    },
    {
     "name": "stdout",
     "output_type": "stream",
     "text": [
      "\u001b[90mTotal de dias úteis no mês: None\n",
      "O total de salário no mês será de R$ 904.64\n",
      "O total de bolsa-auxilio no mês será de R$ 365.64\n",
      "O total de vale transporte no mês será de R$ 422.4\n",
      "O total de vale alimentação no mês será de R$ 539.0\n",
      "\n",
      "Feriados:\n",
      "21/04: Tiradentes\n"
     ]
    },
    {
     "data": {
      "text/html": [
       "<table border='1'><tr><th colspan='7'>Para o mês 5/2024:</th></tr><tr><th>Segunda</th><th>Terça</th><th>Quarta</th><th>Quinta</th><th>Sexta</th><th>Sábado</th><th>Domingo</th></tr><tr><td></td><td></td><td style='background-color: #FF6347'>1</td><td style='background-color: #90EE90'>2</td><td style='background-color: #90EE90'>3</td><td style='background-color: #87CEEB'>4</td><td style='background-color: #87CEEB'>5</td></tr><tr><td style='background-color: #90EE90'>6</td><td style='background-color: #90EE90'>7</td><td style='background-color: #90EE90'>8</td><td style='background-color: #90EE90'>9</td><td style='background-color: #90EE90'>10</td><td style='background-color: #87CEEB'>11</td><td style='background-color: #87CEEB'>12</td></tr><tr><td style='background-color: #90EE90'>13</td><td style='background-color: #90EE90'>14</td><td style='background-color: #90EE90'>15</td><td style='background-color: #90EE90'>16</td><td style='background-color: #90EE90'>17</td><td style='background-color: #87CEEB'>18</td><td style='background-color: #87CEEB'>19</td></tr><tr><td style='background-color: #90EE90'>20</td><td style='background-color: #90EE90'>21</td><td style='background-color: #90EE90'>22</td><td style='background-color: #90EE90'>23</td><td style='background-color: #90EE90'>24</td><td style='background-color: #87CEEB'>25</td><td style='background-color: #87CEEB'>26</td></tr><tr><td style='background-color: #90EE90'>27</td><td style='background-color: #90EE90'>28</td><td style='background-color: #90EE90'>29</td><td style='background-color: #90EE90'>30</td><td style='background-color: #90EE90'>31</td><td></td><td></td></tr></table>"
      ],
      "text/plain": [
       "<IPython.core.display.HTML object>"
      ]
     },
     "metadata": {},
     "output_type": "display_data"
    },
    {
     "name": "stdout",
     "output_type": "stream",
     "text": [
      "\u001b[90mTotal de dias úteis no mês: None\n",
      "O total de salário no mês será de R$ 904.64\n",
      "O total de bolsa-auxilio no mês será de R$ 365.64\n",
      "O total de vale transporte no mês será de R$ 422.4\n",
      "O total de vale alimentação no mês será de R$ 539.0\n",
      "\n",
      "Feriados:\n",
      "01/05: Dia do Trabalhador\n"
     ]
    },
    {
     "data": {
      "text/html": [
       "<table border='1'><tr><th colspan='7'>Para o mês 6/2024:</th></tr><tr><th>Segunda</th><th>Terça</th><th>Quarta</th><th>Quinta</th><th>Sexta</th><th>Sábado</th><th>Domingo</th></tr><tr><td></td><td></td><td></td><td></td><td></td><td style='background-color: #87CEEB'>1</td><td style='background-color: #87CEEB'>2</td></tr><tr><td style='background-color: #90EE90'>3</td><td style='background-color: #90EE90'>4</td><td style='background-color: #90EE90'>5</td><td style='background-color: #90EE90'>6</td><td style='background-color: #90EE90'>7</td><td style='background-color: #87CEEB'>8</td><td style='background-color: #87CEEB'>9</td></tr><tr><td style='background-color: #90EE90'>10</td><td style='background-color: #90EE90'>11</td><td style='background-color: #90EE90'>12</td><td style='background-color: #90EE90'>13</td><td style='background-color: #90EE90'>14</td><td style='background-color: #87CEEB'>15</td><td style='background-color: #87CEEB'>16</td></tr><tr><td style='background-color: #90EE90'>17</td><td style='background-color: #90EE90'>18</td><td style='background-color: #90EE90'>19</td><td style='background-color: #90EE90'>20</td><td style='background-color: #90EE90'>21</td><td style='background-color: #87CEEB'>22</td><td style='background-color: #87CEEB'>23</td></tr><tr><td style='background-color: #90EE90'>24</td><td style='background-color: #90EE90'>25</td><td style='background-color: #90EE90'>26</td><td style='background-color: #90EE90'>27</td><td style='background-color: #90EE90'>28</td><td style='background-color: #87CEEB'>29</td><td style='background-color: #87CEEB'>30</td></tr></table>"
      ],
      "text/plain": [
       "<IPython.core.display.HTML object>"
      ]
     },
     "metadata": {},
     "output_type": "display_data"
    },
    {
     "name": "stdout",
     "output_type": "stream",
     "text": [
      "\u001b[90mTotal de dias úteis no mês: None\n",
      "O total de salário no mês será de R$ 822.4\n",
      "O total de bolsa-auxilio no mês será de R$ 332.4\n",
      "O total de vale transporte no mês será de R$ 384.0\n",
      "O total de vale alimentação no mês será de R$ 490.0\n",
      "\n",
      "Feriados:\n"
     ]
    },
    {
     "data": {
      "text/html": [
       "<table border='1'><tr><th colspan='7'>Para o mês 7/2024:</th></tr><tr><th>Segunda</th><th>Terça</th><th>Quarta</th><th>Quinta</th><th>Sexta</th><th>Sábado</th><th>Domingo</th></tr><tr><td style='background-color: #90EE90'>1</td><td style='background-color: #90EE90'>2</td><td style='background-color: #90EE90'>3</td><td style='background-color: #90EE90'>4</td><td style='background-color: #90EE90'>5</td><td style='background-color: #87CEEB'>6</td><td style='background-color: #87CEEB'>7</td></tr><tr><td style='background-color: #90EE90'>8</td><td style='background-color: #90EE90'>9</td><td style='background-color: #90EE90'>10</td><td style='background-color: #90EE90'>11</td><td style='background-color: #90EE90'>12</td><td style='background-color: #87CEEB'>13</td><td style='background-color: #87CEEB'>14</td></tr><tr><td style='background-color: #90EE90'>15</td><td style='background-color: #90EE90'>16</td><td style='background-color: #90EE90'>17</td><td style='background-color: #90EE90'>18</td><td style='background-color: #90EE90'>19</td><td style='background-color: #87CEEB'>20</td><td style='background-color: #87CEEB'>21</td></tr><tr><td style='background-color: #90EE90'>22</td><td style='background-color: #90EE90'>23</td><td style='background-color: #90EE90'>24</td><td style='background-color: #90EE90'>25</td><td style='background-color: #90EE90'>26</td><td style='background-color: #87CEEB'>27</td><td style='background-color: #87CEEB'>28</td></tr><tr><td style='background-color: #90EE90'>29</td><td style='background-color: #90EE90'>30</td><td style='background-color: #90EE90'>31</td><td></td><td></td><td></td><td></td></tr></table>"
      ],
      "text/plain": [
       "<IPython.core.display.HTML object>"
      ]
     },
     "metadata": {},
     "output_type": "display_data"
    },
    {
     "name": "stdout",
     "output_type": "stream",
     "text": [
      "\u001b[90mTotal de dias úteis no mês: None\n",
      "O total de salário no mês será de R$ 945.76\n",
      "O total de bolsa-auxilio no mês será de R$ 382.26\n",
      "O total de vale transporte no mês será de R$ 441.6\n",
      "O total de vale alimentação no mês será de R$ 563.5\n",
      "\n",
      "Feriados:\n"
     ]
    },
    {
     "data": {
      "text/html": [
       "<table border='1'><tr><th colspan='7'>Para o mês 8/2024:</th></tr><tr><th>Segunda</th><th>Terça</th><th>Quarta</th><th>Quinta</th><th>Sexta</th><th>Sábado</th><th>Domingo</th></tr><tr><td></td><td></td><td></td><td style='background-color: #90EE90'>1</td><td style='background-color: #90EE90'>2</td><td style='background-color: #87CEEB'>3</td><td style='background-color: #87CEEB'>4</td></tr><tr><td style='background-color: #90EE90'>5</td><td style='background-color: #90EE90'>6</td><td style='background-color: #90EE90'>7</td><td style='background-color: #90EE90'>8</td><td style='background-color: #90EE90'>9</td><td style='background-color: #87CEEB'>10</td><td style='background-color: #87CEEB'>11</td></tr><tr><td style='background-color: #90EE90'>12</td><td style='background-color: #90EE90'>13</td><td style='background-color: #90EE90'>14</td><td style='background-color: #90EE90'>15</td><td style='background-color: #90EE90'>16</td><td style='background-color: #87CEEB'>17</td><td style='background-color: #87CEEB'>18</td></tr><tr><td style='background-color: #90EE90'>19</td><td style='background-color: #90EE90'>20</td><td style='background-color: #90EE90'>21</td><td style='background-color: #90EE90'>22</td><td style='background-color: #90EE90'>23</td><td style='background-color: #87CEEB'>24</td><td style='background-color: #87CEEB'>25</td></tr><tr><td style='background-color: #90EE90'>26</td><td style='background-color: #90EE90'>27</td><td style='background-color: #90EE90'>28</td><td style='background-color: #90EE90'>29</td><td style='background-color: #90EE90'>30</td><td style='background-color: #87CEEB'>31</td><td></td></tr></table>"
      ],
      "text/plain": [
       "<IPython.core.display.HTML object>"
      ]
     },
     "metadata": {},
     "output_type": "display_data"
    },
    {
     "name": "stdout",
     "output_type": "stream",
     "text": [
      "\u001b[90mTotal de dias úteis no mês: None\n",
      "O total de salário no mês será de R$ 904.64\n",
      "O total de bolsa-auxilio no mês será de R$ 365.64\n",
      "O total de vale transporte no mês será de R$ 422.4\n",
      "O total de vale alimentação no mês será de R$ 539.0\n",
      "\n",
      "Feriados:\n"
     ]
    },
    {
     "data": {
      "text/html": [
       "<table border='1'><tr><th colspan='7'>Para o mês 9/2024:</th></tr><tr><th>Segunda</th><th>Terça</th><th>Quarta</th><th>Quinta</th><th>Sexta</th><th>Sábado</th><th>Domingo</th></tr><tr><td></td><td></td><td></td><td></td><td></td><td></td><td style='background-color: #87CEEB'>1</td></tr><tr><td style='background-color: #90EE90'>2</td><td style='background-color: #90EE90'>3</td><td style='background-color: #90EE90'>4</td><td style='background-color: #90EE90'>5</td><td style='background-color: #90EE90'>6</td><td style='background-color: #87CEEB'>7</td><td style='background-color: #87CEEB'>8</td></tr><tr><td style='background-color: #90EE90'>9</td><td style='background-color: #90EE90'>10</td><td style='background-color: #90EE90'>11</td><td style='background-color: #90EE90'>12</td><td style='background-color: #90EE90'>13</td><td style='background-color: #87CEEB'>14</td><td style='background-color: #87CEEB'>15</td></tr><tr><td style='background-color: #90EE90'>16</td><td style='background-color: #90EE90'>17</td><td style='background-color: #90EE90'>18</td><td style='background-color: #90EE90'>19</td><td style='background-color: #FF6347'>20</td><td style='background-color: #87CEEB'>21</td><td style='background-color: #87CEEB'>22</td></tr><tr><td style='background-color: #90EE90'>23</td><td style='background-color: #90EE90'>24</td><td style='background-color: #90EE90'>25</td><td style='background-color: #90EE90'>26</td><td style='background-color: #90EE90'>27</td><td style='background-color: #87CEEB'>28</td><td style='background-color: #87CEEB'>29</td></tr><tr><td style='background-color: #90EE90'>30</td><td></td><td></td><td></td><td></td><td></td><td></td></tr></table>"
      ],
      "text/plain": [
       "<IPython.core.display.HTML object>"
      ]
     },
     "metadata": {},
     "output_type": "display_data"
    },
    {
     "name": "stdout",
     "output_type": "stream",
     "text": [
      "\u001b[90mTotal de dias úteis no mês: None\n",
      "O total de salário no mês será de R$ 863.52\n",
      "O total de bolsa-auxilio no mês será de R$ 349.02\n",
      "O total de vale transporte no mês será de R$ 403.2\n",
      "O total de vale alimentação no mês será de R$ 514.5\n",
      "\n",
      "Feriados:\n",
      "07/09: Independência do Brasil\n",
      "20/09: Revolução Farroupilha\n"
     ]
    },
    {
     "data": {
      "text/html": [
       "<table border='1'><tr><th colspan='7'>Para o mês 10/2024:</th></tr><tr><th>Segunda</th><th>Terça</th><th>Quarta</th><th>Quinta</th><th>Sexta</th><th>Sábado</th><th>Domingo</th></tr><tr><td></td><td style='background-color: #90EE90'>1</td><td style='background-color: #90EE90'>2</td><td style='background-color: #90EE90'>3</td><td style='background-color: #90EE90'>4</td><td style='background-color: #87CEEB'>5</td><td style='background-color: #87CEEB'>6</td></tr><tr><td style='background-color: #90EE90'>7</td><td style='background-color: #90EE90'>8</td><td style='background-color: #90EE90'>9</td><td style='background-color: #90EE90'>10</td><td style='background-color: #90EE90'>11</td><td style='background-color: #87CEEB'>12</td><td style='background-color: #87CEEB'>13</td></tr><tr><td style='background-color: #90EE90'>14</td><td style='background-color: #90EE90'>15</td><td style='background-color: #90EE90'>16</td><td style='background-color: #90EE90'>17</td><td style='background-color: #90EE90'>18</td><td style='background-color: #87CEEB'>19</td><td style='background-color: #87CEEB'>20</td></tr><tr><td style='background-color: #90EE90'>21</td><td style='background-color: #90EE90'>22</td><td style='background-color: #90EE90'>23</td><td style='background-color: #90EE90'>24</td><td style='background-color: #90EE90'>25</td><td style='background-color: #87CEEB'>26</td><td style='background-color: #87CEEB'>27</td></tr><tr><td style='background-color: #90EE90'>28</td><td style='background-color: #90EE90'>29</td><td style='background-color: #90EE90'>30</td><td style='background-color: #90EE90'>31</td><td></td><td></td><td></td></tr></table>"
      ],
      "text/plain": [
       "<IPython.core.display.HTML object>"
      ]
     },
     "metadata": {},
     "output_type": "display_data"
    },
    {
     "name": "stdout",
     "output_type": "stream",
     "text": [
      "\u001b[90mTotal de dias úteis no mês: None\n",
      "O total de salário no mês será de R$ 945.76\n",
      "O total de bolsa-auxilio no mês será de R$ 382.26\n",
      "O total de vale transporte no mês será de R$ 441.6\n",
      "O total de vale alimentação no mês será de R$ 563.5\n",
      "\n",
      "Feriados:\n",
      "12/10: Nossa Senhora Aparecida\n"
     ]
    },
    {
     "data": {
      "text/html": [
       "<table border='1'><tr><th colspan='7'>Para o mês 11/2024:</th></tr><tr><th>Segunda</th><th>Terça</th><th>Quarta</th><th>Quinta</th><th>Sexta</th><th>Sábado</th><th>Domingo</th></tr><tr><td></td><td></td><td></td><td></td><td style='background-color: #90EE90'>1</td><td style='background-color: #87CEEB'>2</td><td style='background-color: #87CEEB'>3</td></tr><tr><td style='background-color: #90EE90'>4</td><td style='background-color: #90EE90'>5</td><td style='background-color: #90EE90'>6</td><td style='background-color: #90EE90'>7</td><td style='background-color: #90EE90'>8</td><td style='background-color: #87CEEB'>9</td><td style='background-color: #87CEEB'>10</td></tr><tr><td style='background-color: #90EE90'>11</td><td style='background-color: #90EE90'>12</td><td style='background-color: #90EE90'>13</td><td style='background-color: #90EE90'>14</td><td style='background-color: #FF6347'>15</td><td style='background-color: #87CEEB'>16</td><td style='background-color: #87CEEB'>17</td></tr><tr><td style='background-color: #90EE90'>18</td><td style='background-color: #90EE90'>19</td><td style='background-color: #90EE90'>20</td><td style='background-color: #90EE90'>21</td><td style='background-color: #90EE90'>22</td><td style='background-color: #87CEEB'>23</td><td style='background-color: #87CEEB'>24</td></tr><tr><td style='background-color: #90EE90'>25</td><td style='background-color: #90EE90'>26</td><td style='background-color: #90EE90'>27</td><td style='background-color: #90EE90'>28</td><td style='background-color: #90EE90'>29</td><td style='background-color: #87CEEB'>30</td><td></td></tr></table>"
      ],
      "text/plain": [
       "<IPython.core.display.HTML object>"
      ]
     },
     "metadata": {},
     "output_type": "display_data"
    },
    {
     "name": "stdout",
     "output_type": "stream",
     "text": [
      "\u001b[90mTotal de dias úteis no mês: None\n",
      "O total de salário no mês será de R$ 822.4\n",
      "O total de bolsa-auxilio no mês será de R$ 332.4\n",
      "O total de vale transporte no mês será de R$ 384.0\n",
      "O total de vale alimentação no mês será de R$ 490.0\n",
      "\n",
      "Feriados:\n",
      "02/11: Finados\n",
      "15/11: Proclamação da República\n"
     ]
    },
    {
     "data": {
      "text/html": [
       "<table border='1'><tr><th colspan='7'>Para o mês 12/2024:</th></tr><tr><th>Segunda</th><th>Terça</th><th>Quarta</th><th>Quinta</th><th>Sexta</th><th>Sábado</th><th>Domingo</th></tr><tr><td></td><td></td><td></td><td></td><td></td><td></td><td style='background-color: #87CEEB'>1</td></tr><tr><td style='background-color: #90EE90'>2</td><td style='background-color: #90EE90'>3</td><td style='background-color: #90EE90'>4</td><td style='background-color: #90EE90'>5</td><td style='background-color: #90EE90'>6</td><td style='background-color: #87CEEB'>7</td><td style='background-color: #87CEEB'>8</td></tr><tr><td style='background-color: #90EE90'>9</td><td style='background-color: #90EE90'>10</td><td style='background-color: #90EE90'>11</td><td style='background-color: #90EE90'>12</td><td style='background-color: #90EE90'>13</td><td style='background-color: #87CEEB'>14</td><td style='background-color: #87CEEB'>15</td></tr><tr><td style='background-color: #90EE90'>16</td><td style='background-color: #90EE90'>17</td><td style='background-color: #90EE90'>18</td><td style='background-color: #90EE90'>19</td><td style='background-color: #90EE90'>20</td><td style='background-color: #87CEEB'>21</td><td style='background-color: #87CEEB'>22</td></tr><tr><td style='background-color: #90EE90'>23</td><td style='background-color: #90EE90'>24</td><td style='background-color: #FF6347'>25</td><td style='background-color: #90EE90'>26</td><td style='background-color: #90EE90'>27</td><td style='background-color: #87CEEB'>28</td><td style='background-color: #87CEEB'>29</td></tr><tr><td style='background-color: #90EE90'>30</td><td style='background-color: #90EE90'>31</td><td></td><td></td><td></td><td></td><td></td></tr></table>"
      ],
      "text/plain": [
       "<IPython.core.display.HTML object>"
      ]
     },
     "metadata": {},
     "output_type": "display_data"
    },
    {
     "name": "stdout",
     "output_type": "stream",
     "text": [
      "\u001b[90mTotal de dias úteis no mês: None\n",
      "O total de salário no mês será de R$ 863.52\n",
      "O total de bolsa-auxilio no mês será de R$ 349.02\n",
      "O total de vale transporte no mês será de R$ 403.2\n",
      "O total de vale alimentação no mês será de R$ 514.5\n",
      "\n",
      "Feriados:\n",
      "25/12: Natal\n"
     ]
    }
   ],
   "source": [
    "from datetime import datetime, timedelta\n",
    "import holidays\n",
    "import calendar\n",
    "from IPython.display import display, HTML\n",
    "\n",
    "def imprimir_calendario_html(ano, mes, feriados_br, feriados_rs, periodo_ferias=None):\n",
    "    # Cria uma lista para armazenar as linhas HTML da tabela\n",
    "    table_rows = []\n",
    "\n",
    "    # Configuração inicial das datas\n",
    "    primeiro_dia = datetime(ano, mes, 1)\n",
    "    ultimo_dia = datetime(ano, mes % 12 + 1, 1) if mes < 12 else datetime(ano + 1, 1, 1)\n",
    "    ultimo_dia -= timedelta(days=1)\n",
    "\n",
    "    # Configuração do calendário\n",
    "    cal = calendar.monthcalendar(ano, mes)\n",
    "    dias_semana = [\"Segunda\", \"Terça\", \"Quarta\", \"Quinta\", \"Sexta\", \"Sábado\", \"Domingo\"]\n",
    "\n",
    "    # Informações sobre o mês\n",
    "    table_rows.append(\"<tr>\")\n",
    "    table_rows.append(f\"<th colspan='7'>Para o mês {mes}/{ano}:</th>\")\n",
    "    table_rows.append(\"</tr>\")\n",
    "    table_rows.append(\"<tr>\")\n",
    "    for dia in dias_semana:\n",
    "        table_rows.append(f\"<th>{dia}</th>\")\n",
    "    table_rows.append(\"</tr>\")\n",
    "\n",
    "    # Construção do calendário com cores\n",
    "    for week in cal:\n",
    "        table_rows.append(\"<tr>\")\n",
    "        for day in week:\n",
    "            if day != 0:\n",
    "                current_date = datetime(ano, mes, day)\n",
    "                if current_date.weekday() >= 5:\n",
    "                    table_rows.append(f\"<td style='background-color: #87CEEB'>{day}</td>\")\n",
    "                elif current_date in feriados_br:\n",
    "                    table_rows.append(f\"<td style='background-color: #FF6347'>{day}</td>\")\n",
    "                elif any(date.date() == current_date.date() for date, _ in feriados_rs):\n",
    "                    table_rows.append(f\"<td style='background-color: #FF6347'>{day}</td>\")\n",
    "                elif periodo_ferias and (current_date >= periodo_ferias[0] and current_date <= periodo_ferias[1]):\n",
    "                    table_rows.append(f\"<td style='background-color: #FFD700'>{day}</td>\")\n",
    "                else:\n",
    "                    table_rows.append(f\"<td style='background-color: #90EE90'>{day}</td>\")\n",
    "            else:\n",
    "                table_rows.append(\"<td></td>\")\n",
    "        table_rows.append(\"</tr>\")\n",
    "\n",
    "    # Monta o HTML final da tabela\n",
    "    html_table = \"<table border='1'>\" + \"\".join(table_rows) + \"</table>\"\n",
    "\n",
    "    # Exibe a tabela estilizada\n",
    "    display(HTML(html_table))\n",
    "\n",
    "def calcular_mes(ano, mes, feriados_br, feriados_rs, periodo_ferias=None):\n",
    "    dias_uteis = imprimir_calendario_html(ano, mes, feriados_br, feriados_rs, periodo_ferias)\n",
    "\n",
    "    # Inicializa os valores totais\n",
    "    bolsa_auxilio_total = 0\n",
    "    vale_transporte_total = 0\n",
    "    vale_alimentacao_total = 0\n",
    "    salario_total = 0\n",
    "\n",
    "    # Calcula os valores para cada dia útil do mês\n",
    "    for day in range(1, calendar.monthrange(ano, mes)[1] + 1):\n",
    "        current_date = datetime(ano, mes, day)\n",
    "        if (not periodo_ferias and current_date.weekday() < 5 and current_date not in feriados_br):\n",
    "            bolsa_auxilio_total += 16.62\n",
    "            vale_transporte_total += 4.8 * 4\n",
    "            vale_alimentacao_total += 24.5\n",
    "            salario_total += 16.62 + 24.5  # Salário por dia útil\n",
    "        elif periodo_ferias and (current_date >= periodo_ferias[0] and current_date <= periodo_ferias[1]):\n",
    "            bolsa_auxilio_total += 16.62\n",
    "            vale_transporte_total += 4.8 * 4\n",
    "            vale_alimentacao_total += 24.5\n",
    "            salario_total += 16.62 + 24.5  # Salário por dia útil\n",
    "\n",
    "    # Imprime os valores totais para o mês\n",
    "    print(\"\\033[90mTotal de dias úteis no mês:\", dias_uteis)\n",
    "    print(f\"O total de salário no mês será de R$ {round(salario_total, 2)}\")\n",
    "    print(f\"O total de bolsa-auxilio no mês será de R$ {round(bolsa_auxilio_total, 2)}\")\n",
    "    print(f\"O total de vale transporte no mês será de R$ {round(vale_transporte_total, 2)}\")\n",
    "    print(f\"O total de vale alimentação no mês será de R$ {round(vale_alimentacao_total, 2)}\")\n",
    "\n",
    "    # Imprimindo os feriados no mesmo lugar dos cálculos\n",
    "    print(\"\\nFeriados:\")\n",
    "    for date, name in feriados_br.items():\n",
    "        if date.month == mes:\n",
    "            print(f\"{date.strftime('%d/%m')}: {name}\")\n",
    "    for date, name in feriados_rs:\n",
    "        if date.month == mes:\n",
    "            print(f\"{date.strftime('%d/%m')}: {name}\")\n",
    "\n",
    "def calcular_dias_uteis(ano, mes=None):\n",
    "    feriados_br = holidays.Brazil()\n",
    "    feriados_rs = [\n",
    "        (datetime(ano, 9, 20), \"Revolução Farroupilha\"),\n",
    "        # Adicione os feriados do RS desejados seguindo o formato (datetime(ano, mês, dia), \"Nome do Feriado\")\n",
    "    ]\n",
    "\n",
    "    if mes is None:\n",
    "        opcao = input(\"Digite 'A' para o ano inteiro, 'M' para um mês específico ou 'MF' para um período de férias: \").upper()\n",
    "\n",
    "        if opcao == \"A\":\n",
    "            for m in range(1, 13):\n",
    "                calcular_mes(ano, m, feriados_br, feriados_rs)\n",
    "        elif opcao == \"M\":\n",
    "            mes = int(input(\"Digite o número do mês (exemplo: 1 para janeiro): \"))\n",
    "            calcular_mes(ano, mes, feriados_br, feriados_rs)\n",
    "        elif opcao == \"MF\":\n",
    "            mes = int(input(\"Digite o número do mês (exemplo: 1 para janeiro): \"))\n",
    "            if mes < 1 or mes > 12:\n",
    "                print(\"Mês inválido.\")\n",
    "            else:\n",
    "                dia_inicio = int(input(\"Digite o dia de início das férias: \"))\n",
    "                dia_fim = int(input(\"Digite o dia de fim das férias: \"))\n",
    "                data_inicio = datetime(ano, mes, dia_inicio)\n",
    "                data_fim = datetime(ano, mes, dia_fim)\n",
    "                periodo_ferias = (data_inicio, data_fim)\n",
    "                calcular_mes(ano, mes, feriados_br, feriados_rs, periodo_ferias)\n",
    "        else:\n",
    "            print(\"Opção inválida.\")\n",
    "    else:\n",
    "        calcular_mes(ano, mes, feriados_br, feriados_rs)\n",
    "\n",
    "ano = int(input(\"Digite o ano (exemplo: 2024): \"))\n",
    "calcular_dias_uteis(ano)\n"
   ]
  }
 ],
 "metadata": {
  "kernelspec": {
   "display_name": "Python 3",
   "language": "python",
   "name": "python3"
  },
  "language_info": {
   "codemirror_mode": {
    "name": "ipython",
    "version": 3
   },
   "file_extension": ".py",
   "mimetype": "text/x-python",
   "name": "python",
   "nbconvert_exporter": "python",
   "pygments_lexer": "ipython3",
   "version": "3.12.1"
  }
 },
 "nbformat": 4,
 "nbformat_minor": 2
}
